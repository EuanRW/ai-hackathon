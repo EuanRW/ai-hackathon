{
 "cells": [
  {
   "cell_type": "markdown",
   "id": "a010bf91",
   "metadata": {},
   "source": [
    "# Crossword grid detection\n",
    "- Aim is to detect crossword grid structure.\n",
    "\n",
    "Failures\n",
    "- Big bang approach to finding grid lines, had to break this into multiple steps"
   ]
  },
  {
   "cell_type": "markdown",
   "id": "01ba3c39",
   "metadata": {},
   "source": [
    "# Detect grids"
   ]
  },
  {
   "cell_type": "code",
   "execution_count": null,
   "id": "ebcdf5c8",
   "metadata": {},
   "outputs": [
    {
     "ename": "ModuleNotFoundError",
     "evalue": "No module named 'grid_detect'",
     "output_type": "error",
     "traceback": [
      "\u001b[31m---------------------------------------------------------------------------\u001b[39m",
      "\u001b[31mModuleNotFoundError\u001b[39m                       Traceback (most recent call last)",
      "\u001b[36mCell\u001b[39m\u001b[36m \u001b[39m\u001b[32mIn[1]\u001b[39m\u001b[32m, line 5\u001b[39m\n\u001b[32m      3\u001b[39m \u001b[38;5;28;01mimport\u001b[39;00m\u001b[38;5;250m \u001b[39m\u001b[34;01mnumpy\u001b[39;00m\u001b[38;5;250m \u001b[39m\u001b[38;5;28;01mas\u001b[39;00m\u001b[38;5;250m \u001b[39m\u001b[34;01mnp\u001b[39;00m\n\u001b[32m      4\u001b[39m \u001b[38;5;28;01mfrom\u001b[39;00m\u001b[38;5;250m \u001b[39m\u001b[34;01mglob\u001b[39;00m\u001b[38;5;250m \u001b[39m\u001b[38;5;28;01mimport\u001b[39;00m glob\n\u001b[32m----> \u001b[39m\u001b[32m5\u001b[39m \u001b[38;5;28;01mfrom\u001b[39;00m\u001b[38;5;250m \u001b[39m\u001b[34;01mgrid_detect\u001b[39;00m\u001b[38;5;250m \u001b[39m\u001b[38;5;28;01mimport\u001b[39;00m get_crossword_grid_array\n\u001b[32m      6\u001b[39m \u001b[38;5;28;01mimport\u001b[39;00m\u001b[38;5;250m \u001b[39m\u001b[34;01mcv2\u001b[39;00m\n\u001b[32m      9\u001b[39m SOLUTIONS_DIR = \u001b[33m\"\u001b[39m\u001b[33m../dataset/solutions\u001b[39m\u001b[33m\"\u001b[39m\n",
      "\u001b[31mModuleNotFoundError\u001b[39m: No module named 'grid_detect'"
     ]
    }
   ],
   "source": [
    "import os\n",
    "import json\n",
    "import numpy as np\n",
    "from glob import glob\n",
    "from lambda_function.grid_detect import get_crossword_grid_array\n",
    "import cv2\n",
    "\n",
    "\n",
    "SOLUTIONS_DIR = \"../dataset/solutions\"\n",
    "IMAGES_DIR = \"../dataset/images\"\n",
    "MAX_FILES = 100  # set this to None to process all\n",
    "\n",
    "\n",
    "def load_solution_data(json_path):\n",
    "    \"\"\"Load the solution JSON and return (grid, numbers).\"\"\"\n",
    "    with open(json_path, \"r\") as f:\n",
    "        data = json.load(f)\n",
    "    grid = np.array(data[\"grid\"], dtype=int)\n",
    "    numbers = np.array(data.get(\"numbers\", np.zeros_like(grid)), dtype=int)\n",
    "    return grid, numbers\n",
    "\n",
    "\n",
    "def compare_grids(grid1, grid2):\n",
    "    \"\"\"Compare two grids and return True if identical.\"\"\"\n",
    "    if grid1.shape != grid2.shape:\n",
    "        return False\n",
    "    return np.array_equal(grid1, grid2)\n",
    "\n",
    "\n",
    "def main(max_files=None):\n",
    "    solution_files = glob(os.path.join(SOLUTIONS_DIR, \"*.json\"))\n",
    "\n",
    "    if max_files is not None:\n",
    "        solution_files = solution_files[:max_files]\n",
    "\n",
    "    total = 0\n",
    "    matching_both = 0\n",
    "    matching_grid_only = 0\n",
    "    non_matching = 0\n",
    "\n",
    "    for sol_path in solution_files:\n",
    "        base = os.path.basename(sol_path).replace(\"_solution.json\", \"\")\n",
    "        img_path = os.path.join(IMAGES_DIR, f\"{base}.png\")\n",
    "\n",
    "        if not os.path.exists(img_path):\n",
    "            print(f\"⚠️ No image found for {sol_path}\")\n",
    "            continue\n",
    "\n",
    "        try:\n",
    "            sol_grid, sol_numbers = load_solution_data(sol_path)\n",
    "            image = cv2.imread(str(img_path))\n",
    "            if image is None:\n",
    "                raise FileNotFoundError(f\"Could not load image {img_path}\")\n",
    "\n",
    "            # Unpack detected results\n",
    "            det_grid, det_numbers, across_clues, down_clues = get_crossword_grid_array(image)\n",
    "\n",
    "            grid_match = compare_grids(sol_grid, det_grid)\n",
    "            num_match = compare_grids(sol_numbers, det_numbers)\n",
    "\n",
    "            if grid_match and num_match:\n",
    "                print(f\"✅ Full match: {base}\")\n",
    "                matching_both += 1\n",
    "            elif grid_match and not num_match:\n",
    "                print(f\"⚠️ Grid matches but numbers differ: {base}\")\n",
    "                matching_grid_only += 1\n",
    "            else:\n",
    "                print(f\"❌ Grid mismatch: {base} \"\n",
    "                      f\"(solution {sol_grid.shape}, detected {det_grid.shape})\")\n",
    "                non_matching += 1\n",
    "\n",
    "            total += 1\n",
    "\n",
    "        except Exception as e:\n",
    "            print(f\"⚠️ Error processing {base}: {e}\")\n",
    "            non_matching += 1\n",
    "            total += 1\n",
    "\n",
    "    print(\"\\n==== SUMMARY ====\")\n",
    "    print(f\"Total puzzles:          {total}\")\n",
    "    print(f\"Matching grid+numbers: {matching_both}\")\n",
    "    print(f\"Matching grid only:    {matching_grid_only}\")\n",
    "    print(f\"Non-matching:          {non_matching}\")\n",
    "\n",
    "\n",
    "if __name__ == \"__main__\":\n",
    "    main(max_files=MAX_FILES)\n"
   ]
  }
 ],
 "metadata": {
  "kernelspec": {
   "display_name": "crossword-data-generation",
   "language": "python",
   "name": "python3"
  },
  "language_info": {
   "codemirror_mode": {
    "name": "ipython",
    "version": 3
   },
   "file_extension": ".py",
   "mimetype": "text/x-python",
   "name": "python",
   "nbconvert_exporter": "python",
   "pygments_lexer": "ipython3",
   "version": "3.12.11"
  }
 },
 "nbformat": 4,
 "nbformat_minor": 5
}
