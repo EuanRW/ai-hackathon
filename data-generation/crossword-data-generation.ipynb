{
 "cells": [
  {
   "cell_type": "markdown",
   "id": "a010bf91",
   "metadata": {},
   "source": [
    "# Crossword data generation\n",
    "- `./raw_data` contains ~9000 historical crosswords from the NYT\n",
    "- Aim is to create crossword images and solutions to train ML models."
   ]
  },
  {
   "cell_type": "markdown",
   "id": "8f111060",
   "metadata": {},
   "source": [
    "# Flatten NYT data "
   ]
  },
  {
   "cell_type": "code",
   "execution_count": 3,
   "id": "71312329",
   "metadata": {},
   "outputs": [
    {
     "name": "stdout",
     "output_type": "stream",
     "text": [
      "Flattened directory structure of raw_data into flattened/\n"
     ]
    }
   ],
   "source": [
    "from flatten_directory import flatten_directory\n",
    "flatten_directory(\"../raw_data\", \"flattened\")\n",
    "print(\"Flattened directory structure of raw_data into flattened/\")"
   ]
  },
  {
   "cell_type": "markdown",
   "id": "01ba3c39",
   "metadata": {},
   "source": [
    "# Render crosswords"
   ]
  },
  {
   "cell_type": "code",
   "execution_count": 6,
   "id": "ebcdf5c8",
   "metadata": {},
   "outputs": [
    {
     "name": "stdout",
     "output_type": "stream",
     "text": [
      "Found 8914 .puz files\n",
      "Processing 100 files (random subset)\n",
      "[10/100] (10.0%) Processed daily-1997-11-Nov0397.puz\n",
      "[20/100] (20.0%) Processed daily-2006-04-Apr0106.puz\n",
      "[30/100] (30.0%) Processed daily-1999-12-Dec1699.puz\n",
      "[40/100] (40.0%) Processed daily-2003-10-Oct2203.puz\n",
      "[50/100] (50.0%) Processed variety-2007-Aug1207.2.puz\n",
      "[60/100] (60.0%) Processed daily-1994-05-May2994.puz\n",
      "[70/100] (70.0%) Processed daily-2008-05-May1308.puz\n",
      "[80/100] (80.0%) Processed daily-2011-08-Aug1811.puz\n",
      "[90/100] (90.0%) Processed daily-1999-03-Mar2099.puz\n",
      "[100/100] (100.0%) Processed daily-1999-11-Nov2999.puz\n"
     ]
    }
   ],
   "source": [
    "from pathlib import Path\n",
    "import random\n",
    "import puz\n",
    "from render_crossword import render_crossword\n",
    "\n",
    "# CONFIG\n",
    "PUZ_DIR = \"flattened\"  # folder containing .puz files\n",
    "OUT_IMG_DIR = \"../dataset/images\"\n",
    "OUT_MASK_DIR = \"../dataset/masks\"\n",
    "OUT_SOLUTION_DIR = \"../dataset/solutions\"\n",
    "\n",
    "files = list(Path(PUZ_DIR).rglob(\"*.puz\"))\n",
    "print(f\"Found {len(files)} .puz files\")\n",
    "\n",
    "# Take a random subset of no more than:\n",
    "MAX_FILES = 100\n",
    "if len(files) > MAX_FILES:\n",
    "    files = random.sample(files, MAX_FILES)\n",
    "print(f\"Processing {len(files)} files (random subset)\")\n",
    "\n",
    "last_printed_percent = 0\n",
    "\n",
    "for i, file in enumerate(files, 1):  # start at 1\n",
    "    try:\n",
    "        puzzle = puz.read(str(file))\n",
    "        stem = file.stem\n",
    "        render_crossword(puzzle, stem, OUT_IMG_DIR, OUT_MASK_DIR, OUT_SOLUTION_DIR)\n",
    "        message = f\"Processed {file.name}\"\n",
    "    except Exception as e:\n",
    "        message = f\"Error parsing {file.name}: {e}\"\n",
    "\n",
    "    percent = (i / len(files)) * 100\n",
    "\n",
    "    # Only print if we've reached the next 10% increment or it's the last file\n",
    "    if percent - last_printed_percent >= 10 or i == len(files):\n",
    "        print(f\"[{i}/{len(files)}] ({percent:.1f}%) {message}\")\n",
    "        last_printed_percent = percent\n"
   ]
  }
 ],
 "metadata": {
  "kernelspec": {
   "display_name": "crossword-data-generation",
   "language": "python",
   "name": "python3"
  },
  "language_info": {
   "codemirror_mode": {
    "name": "ipython",
    "version": 3
   },
   "file_extension": ".py",
   "mimetype": "text/x-python",
   "name": "python",
   "nbconvert_exporter": "python",
   "pygments_lexer": "ipython3",
   "version": "3.12.11"
  }
 },
 "nbformat": 4,
 "nbformat_minor": 5
}
