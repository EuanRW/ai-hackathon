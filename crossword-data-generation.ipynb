{
 "cells": [
  {
   "cell_type": "markdown",
   "id": "7e2c1ca6",
   "metadata": {},
   "source": [
    "- Use WSL Ubuntu 24"
   ]
  },
  {
   "cell_type": "markdown",
   "id": "8f111060",
   "metadata": {},
   "source": [
    "# Flatten NYT data "
   ]
  },
  {
   "cell_type": "code",
   "execution_count": 2,
   "id": "71312329",
   "metadata": {},
   "outputs": [
    {
     "name": "stdout",
     "output_type": "stream",
     "text": [
      "Flattened directory structure of raw_data into flattened/\n"
     ]
    }
   ],
   "source": [
    "from flatten_directory import flatten_directory\n",
    "flatten_directory(\"raw_data\", \"flattened\")\n",
    "print(\"Flattened directory structure of raw_data into flattened/\")"
   ]
  },
  {
   "cell_type": "markdown",
   "id": "01ba3c39",
   "metadata": {},
   "source": [
    "# Render crosswords"
   ]
  },
  {
   "cell_type": "code",
   "execution_count": 2,
   "id": "ebcdf5c8",
   "metadata": {},
   "outputs": [
    {
     "name": "stdout",
     "output_type": "stream",
     "text": [
      "Found 8914 .puz files\n",
      "Processing 500 files (random subset)\n",
      "[50/500] (10.0%) Processed daily-1997-08-Aug1597.puz\n",
      "[100/500] (20.0%) Processed daily-2006-10-Oct1806.puz\n",
      "[150/500] (30.0%) Processed daily-2007-03-Mar1507.puz\n",
      "[200/500] (40.0%) Processed daily-2005-04-Apr2305.puz\n",
      "[250/500] (50.0%) Processed daily-2014-02-Feb1914.puz\n",
      "[300/500] (60.0%) Processed daily-1998-10-Oct1198.puz\n",
      "[350/500] (70.0%) Processed daily-1993-12-Dec2493.puz\n",
      "[400/500] (80.0%) Processed daily-2012-10-Oct1212.puz\n",
      "[450/500] (90.0%) Processed daily-2000-08-Aug1000.puz\n",
      "[500/500] (100.0%) Processed daily-2015-10-Oct1215.puz\n"
     ]
    }
   ],
   "source": [
    "from pathlib import Path\n",
    "import random\n",
    "import puz\n",
    "from render_crossword import render_crossword\n",
    "\n",
    "# CONFIG\n",
    "PUZ_DIR = \"flattened\"  # folder containing .puz files\n",
    "OUT_IMG_DIR = \"dataset/images\"\n",
    "OUT_MASK_DIR = \"dataset/masks\"\n",
    "OUT_SOLUTION_DIR = \"dataset/solutions\"\n",
    "\n",
    "files = list(Path(PUZ_DIR).glob(\"*.puz\"))\n",
    "print(f\"Found {len(files)} .puz files\")\n",
    "\n",
    "# Take a random subset of no more than:\n",
    "MAX_FILES = 500\n",
    "if len(files) > MAX_FILES:\n",
    "    files = random.sample(files, MAX_FILES)\n",
    "print(f\"Processing {len(files)} files (random subset)\")\n",
    "\n",
    "last_printed_percent = 0\n",
    "\n",
    "for i, file in enumerate(files, 1):  # start at 1\n",
    "    try:\n",
    "        puzzle = puz.read(str(file))\n",
    "        stem = file.stem\n",
    "        render_crossword(puzzle, stem, OUT_IMG_DIR, OUT_MASK_DIR, OUT_SOLUTION_DIR)\n",
    "        message = f\"Processed {file.name}\"\n",
    "    except Exception as e:\n",
    "        message = f\"Error parsing {file.name}: {e}\"\n",
    "\n",
    "    percent = (i / len(files)) * 100\n",
    "\n",
    "    # Only print if we've reached the next 10% increment or it's the last file\n",
    "    if percent - last_printed_percent >= 10 or i == len(files):\n",
    "        print(f\"[{i}/{len(files)}] ({percent:.1f}%) {message}\")\n",
    "        last_printed_percent = percent\n"
   ]
  }
 ],
 "metadata": {
  "kernelspec": {
   "display_name": "venv",
   "language": "python",
   "name": "python3"
  },
  "language_info": {
   "codemirror_mode": {
    "name": "ipython",
    "version": 3
   },
   "file_extension": ".py",
   "mimetype": "text/x-python",
   "name": "python",
   "nbconvert_exporter": "python",
   "pygments_lexer": "ipython3",
   "version": "3.12.3"
  }
 },
 "nbformat": 4,
 "nbformat_minor": 5
}
